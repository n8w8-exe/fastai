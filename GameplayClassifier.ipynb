{
  "nbformat": 4,
  "nbformat_minor": 0,
  "metadata": {
    "colab": {
      "name": "GameplayClassifier.ipynb",
      "provenance": [],
      "authorship_tag": "ABX9TyN2OleMQBPjN1a1bkBxUgbB",
      "include_colab_link": true
    },
    "kernelspec": {
      "name": "python3",
      "display_name": "Python 3"
    },
    "widgets": {
      "application/vnd.jupyter.widget-state+json": {
        "4e6a406295364a2db9043d9ac6f8efce": {
          "model_module": "@jupyter-widgets/controls",
          "model_name": "VBoxModel",
          "state": {
            "_view_name": "VBoxView",
            "_dom_classes": [],
            "_model_name": "VBoxModel",
            "_view_module": "@jupyter-widgets/controls",
            "_model_module_version": "1.5.0",
            "_view_count": null,
            "_view_module_version": "1.5.0",
            "box_style": "",
            "layout": "IPY_MODEL_c4fafce700d34fef9dafdb5cfec12f5f",
            "_model_module": "@jupyter-widgets/controls",
            "children": [
              "IPY_MODEL_256ea1a7fd10415d99e794f124d58cac",
              "IPY_MODEL_ae26ad8ab96546109445aa4c54ef753d",
              "IPY_MODEL_509833675715451e9d5dffe21bead185",
              "IPY_MODEL_2080a5756b9841a3b58e25fcea53b7e3",
              "IPY_MODEL_3570cabc17c84965822b15dd197b80c6"
            ]
          }
        },
        "c4fafce700d34fef9dafdb5cfec12f5f": {
          "model_module": "@jupyter-widgets/base",
          "model_name": "LayoutModel",
          "state": {
            "_view_name": "LayoutView",
            "grid_template_rows": null,
            "right": null,
            "justify_content": null,
            "_view_module": "@jupyter-widgets/base",
            "overflow": null,
            "_model_module_version": "1.2.0",
            "_view_count": null,
            "flex_flow": null,
            "width": null,
            "min_width": null,
            "border": null,
            "align_items": null,
            "bottom": null,
            "_model_module": "@jupyter-widgets/base",
            "top": null,
            "grid_column": null,
            "overflow_y": null,
            "overflow_x": null,
            "grid_auto_flow": null,
            "grid_area": null,
            "grid_template_columns": null,
            "flex": null,
            "_model_name": "LayoutModel",
            "justify_items": null,
            "grid_row": null,
            "max_height": null,
            "align_content": null,
            "visibility": null,
            "align_self": null,
            "height": null,
            "min_height": null,
            "padding": null,
            "grid_auto_rows": null,
            "grid_gap": null,
            "max_width": null,
            "order": null,
            "_view_module_version": "1.2.0",
            "grid_template_areas": null,
            "object_position": null,
            "object_fit": null,
            "grid_auto_columns": null,
            "margin": null,
            "display": null,
            "left": null
          }
        },
        "256ea1a7fd10415d99e794f124d58cac": {
          "model_module": "@jupyter-widgets/controls",
          "model_name": "LabelModel",
          "state": {
            "_view_name": "LabelView",
            "style": "IPY_MODEL_be4d32a39a6548f996368a0641464a32",
            "_dom_classes": [],
            "description": "",
            "_model_name": "LabelModel",
            "placeholder": "​",
            "_view_module": "@jupyter-widgets/controls",
            "_model_module_version": "1.5.0",
            "value": "Select your screenshot!",
            "_view_count": null,
            "_view_module_version": "1.5.0",
            "description_tooltip": null,
            "_model_module": "@jupyter-widgets/controls",
            "layout": "IPY_MODEL_a12a5c7cdc3b47a3b5296523d2899594"
          }
        },
        "ae26ad8ab96546109445aa4c54ef753d": {
          "model_module": "@jupyter-widgets/controls",
          "model_name": "FileUploadModel",
          "state": {
            "_view_name": "FileUploadView",
            "_counter": 1,
            "style": "IPY_MODEL_c1b0f7d56b0d4d1e8b09c366693e227b",
            "_dom_classes": [],
            "description": "Upload",
            "multiple": false,
            "_model_name": "FileUploadModel",
            "data": [
              null
            ],
            "button_style": "",
            "_view_module": "@jupyter-widgets/controls",
            "_model_module_version": "1.5.0",
            "accept": "",
            "_view_count": null,
            "disabled": false,
            "_view_module_version": "1.5.0",
            "error": "",
            "description_tooltip": null,
            "metadata": [
              {
                "name": "test1ever.png",
                "type": "image/png",
                "size": 2116833,
                "lastModified": 1615932636372
              }
            ],
            "_model_module": "@jupyter-widgets/controls",
            "layout": "IPY_MODEL_aa4cb067a0e646ef8aae8e869697e989",
            "icon": "upload"
          }
        },
        "509833675715451e9d5dffe21bead185": {
          "model_module": "@jupyter-widgets/controls",
          "model_name": "ButtonModel",
          "state": {
            "_view_name": "ButtonView",
            "style": "IPY_MODEL_bde077b980094a87986304f6861a6826",
            "_dom_classes": [],
            "description": "Classify",
            "_model_name": "ButtonModel",
            "button_style": "",
            "_view_module": "@jupyter-widgets/controls",
            "_model_module_version": "1.5.0",
            "tooltip": "",
            "_view_count": null,
            "disabled": false,
            "_view_module_version": "1.5.0",
            "layout": "IPY_MODEL_30c999fb544949658bb9223747bc6ab2",
            "_model_module": "@jupyter-widgets/controls",
            "icon": ""
          }
        },
        "2080a5756b9841a3b58e25fcea53b7e3": {
          "model_module": "@jupyter-widgets/output",
          "model_name": "OutputModel",
          "state": {
            "_view_name": "OutputView",
            "msg_id": "",
            "_dom_classes": [],
            "_model_name": "OutputModel",
            "outputs": [
              {
                "output_type": "display_data",
                "metadata": {
                  "tags": []
                },
                "image/png": "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\n",
                "text/plain": "<PIL.Image.Image image mode=RGB size=128x72 at 0x7FC010200E90>"
              }
            ],
            "_view_module": "@jupyter-widgets/output",
            "_model_module_version": "1.0.0",
            "_view_count": null,
            "_view_module_version": "1.0.0",
            "layout": "IPY_MODEL_b66f9c7166324668bc8147fae9af7a5e",
            "_model_module": "@jupyter-widgets/output"
          }
        },
        "3570cabc17c84965822b15dd197b80c6": {
          "model_module": "@jupyter-widgets/controls",
          "model_name": "LabelModel",
          "state": {
            "_view_name": "LabelView",
            "style": "IPY_MODEL_b6e5b4e4026f4f4caddceb31c3ec62e6",
            "_dom_classes": [],
            "description": "",
            "_model_name": "LabelModel",
            "placeholder": "​",
            "_view_module": "@jupyter-widgets/controls",
            "_model_module_version": "1.5.0",
            "value": "Prediction: Fortnite; Probability: 0.8660",
            "_view_count": null,
            "_view_module_version": "1.5.0",
            "description_tooltip": null,
            "_model_module": "@jupyter-widgets/controls",
            "layout": "IPY_MODEL_373ca85113bb4733bb91ada03a6521a5"
          }
        },
        "be4d32a39a6548f996368a0641464a32": {
          "model_module": "@jupyter-widgets/controls",
          "model_name": "DescriptionStyleModel",
          "state": {
            "_view_name": "StyleView",
            "_model_name": "DescriptionStyleModel",
            "description_width": "",
            "_view_module": "@jupyter-widgets/base",
            "_model_module_version": "1.5.0",
            "_view_count": null,
            "_view_module_version": "1.2.0",
            "_model_module": "@jupyter-widgets/controls"
          }
        },
        "a12a5c7cdc3b47a3b5296523d2899594": {
          "model_module": "@jupyter-widgets/base",
          "model_name": "LayoutModel",
          "state": {
            "_view_name": "LayoutView",
            "grid_template_rows": null,
            "right": null,
            "justify_content": null,
            "_view_module": "@jupyter-widgets/base",
            "overflow": null,
            "_model_module_version": "1.2.0",
            "_view_count": null,
            "flex_flow": null,
            "width": null,
            "min_width": null,
            "border": null,
            "align_items": null,
            "bottom": null,
            "_model_module": "@jupyter-widgets/base",
            "top": null,
            "grid_column": null,
            "overflow_y": null,
            "overflow_x": null,
            "grid_auto_flow": null,
            "grid_area": null,
            "grid_template_columns": null,
            "flex": null,
            "_model_name": "LayoutModel",
            "justify_items": null,
            "grid_row": null,
            "max_height": null,
            "align_content": null,
            "visibility": null,
            "align_self": null,
            "height": null,
            "min_height": null,
            "padding": null,
            "grid_auto_rows": null,
            "grid_gap": null,
            "max_width": null,
            "order": null,
            "_view_module_version": "1.2.0",
            "grid_template_areas": null,
            "object_position": null,
            "object_fit": null,
            "grid_auto_columns": null,
            "margin": null,
            "display": null,
            "left": null
          }
        },
        "c1b0f7d56b0d4d1e8b09c366693e227b": {
          "model_module": "@jupyter-widgets/controls",
          "model_name": "ButtonStyleModel",
          "state": {
            "_view_name": "StyleView",
            "_model_name": "ButtonStyleModel",
            "_view_module": "@jupyter-widgets/base",
            "_model_module_version": "1.5.0",
            "_view_count": null,
            "button_color": null,
            "font_weight": "",
            "_view_module_version": "1.2.0",
            "_model_module": "@jupyter-widgets/controls"
          }
        },
        "aa4cb067a0e646ef8aae8e869697e989": {
          "model_module": "@jupyter-widgets/base",
          "model_name": "LayoutModel",
          "state": {
            "_view_name": "LayoutView",
            "grid_template_rows": null,
            "right": null,
            "justify_content": null,
            "_view_module": "@jupyter-widgets/base",
            "overflow": null,
            "_model_module_version": "1.2.0",
            "_view_count": null,
            "flex_flow": null,
            "width": null,
            "min_width": null,
            "border": null,
            "align_items": null,
            "bottom": null,
            "_model_module": "@jupyter-widgets/base",
            "top": null,
            "grid_column": null,
            "overflow_y": null,
            "overflow_x": null,
            "grid_auto_flow": null,
            "grid_area": null,
            "grid_template_columns": null,
            "flex": null,
            "_model_name": "LayoutModel",
            "justify_items": null,
            "grid_row": null,
            "max_height": null,
            "align_content": null,
            "visibility": null,
            "align_self": null,
            "height": null,
            "min_height": null,
            "padding": null,
            "grid_auto_rows": null,
            "grid_gap": null,
            "max_width": null,
            "order": null,
            "_view_module_version": "1.2.0",
            "grid_template_areas": null,
            "object_position": null,
            "object_fit": null,
            "grid_auto_columns": null,
            "margin": null,
            "display": null,
            "left": null
          }
        },
        "bde077b980094a87986304f6861a6826": {
          "model_module": "@jupyter-widgets/controls",
          "model_name": "ButtonStyleModel",
          "state": {
            "_view_name": "StyleView",
            "_model_name": "ButtonStyleModel",
            "_view_module": "@jupyter-widgets/base",
            "_model_module_version": "1.5.0",
            "_view_count": null,
            "button_color": null,
            "font_weight": "",
            "_view_module_version": "1.2.0",
            "_model_module": "@jupyter-widgets/controls"
          }
        },
        "30c999fb544949658bb9223747bc6ab2": {
          "model_module": "@jupyter-widgets/base",
          "model_name": "LayoutModel",
          "state": {
            "_view_name": "LayoutView",
            "grid_template_rows": null,
            "right": null,
            "justify_content": null,
            "_view_module": "@jupyter-widgets/base",
            "overflow": null,
            "_model_module_version": "1.2.0",
            "_view_count": null,
            "flex_flow": null,
            "width": null,
            "min_width": null,
            "border": null,
            "align_items": null,
            "bottom": null,
            "_model_module": "@jupyter-widgets/base",
            "top": null,
            "grid_column": null,
            "overflow_y": null,
            "overflow_x": null,
            "grid_auto_flow": null,
            "grid_area": null,
            "grid_template_columns": null,
            "flex": null,
            "_model_name": "LayoutModel",
            "justify_items": null,
            "grid_row": null,
            "max_height": null,
            "align_content": null,
            "visibility": null,
            "align_self": null,
            "height": null,
            "min_height": null,
            "padding": null,
            "grid_auto_rows": null,
            "grid_gap": null,
            "max_width": null,
            "order": null,
            "_view_module_version": "1.2.0",
            "grid_template_areas": null,
            "object_position": null,
            "object_fit": null,
            "grid_auto_columns": null,
            "margin": null,
            "display": null,
            "left": null
          }
        },
        "b6e5b4e4026f4f4caddceb31c3ec62e6": {
          "model_module": "@jupyter-widgets/controls",
          "model_name": "DescriptionStyleModel",
          "state": {
            "_view_name": "StyleView",
            "_model_name": "DescriptionStyleModel",
            "description_width": "",
            "_view_module": "@jupyter-widgets/base",
            "_model_module_version": "1.5.0",
            "_view_count": null,
            "_view_module_version": "1.2.0",
            "_model_module": "@jupyter-widgets/controls"
          }
        },
        "373ca85113bb4733bb91ada03a6521a5": {
          "model_module": "@jupyter-widgets/base",
          "model_name": "LayoutModel",
          "state": {
            "_view_name": "LayoutView",
            "grid_template_rows": null,
            "right": null,
            "justify_content": null,
            "_view_module": "@jupyter-widgets/base",
            "overflow": null,
            "_model_module_version": "1.2.0",
            "_view_count": null,
            "flex_flow": null,
            "width": null,
            "min_width": null,
            "border": null,
            "align_items": null,
            "bottom": null,
            "_model_module": "@jupyter-widgets/base",
            "top": null,
            "grid_column": null,
            "overflow_y": null,
            "overflow_x": null,
            "grid_auto_flow": null,
            "grid_area": null,
            "grid_template_columns": null,
            "flex": null,
            "_model_name": "LayoutModel",
            "justify_items": null,
            "grid_row": null,
            "max_height": null,
            "align_content": null,
            "visibility": null,
            "align_self": null,
            "height": null,
            "min_height": null,
            "padding": null,
            "grid_auto_rows": null,
            "grid_gap": null,
            "max_width": null,
            "order": null,
            "_view_module_version": "1.2.0",
            "grid_template_areas": null,
            "object_position": null,
            "object_fit": null,
            "grid_auto_columns": null,
            "margin": null,
            "display": null,
            "left": null
          }
        },
        "b66f9c7166324668bc8147fae9af7a5e": {
          "model_module": "@jupyter-widgets/base",
          "model_name": "LayoutModel",
          "state": {
            "_view_name": "LayoutView",
            "grid_template_rows": null,
            "right": null,
            "justify_content": null,
            "_view_module": "@jupyter-widgets/base",
            "overflow": null,
            "_model_module_version": "1.2.0",
            "_view_count": null,
            "flex_flow": null,
            "width": null,
            "min_width": null,
            "border": null,
            "align_items": null,
            "bottom": null,
            "_model_module": "@jupyter-widgets/base",
            "top": null,
            "grid_column": null,
            "overflow_y": null,
            "overflow_x": null,
            "grid_auto_flow": null,
            "grid_area": null,
            "grid_template_columns": null,
            "flex": null,
            "_model_name": "LayoutModel",
            "justify_items": null,
            "grid_row": null,
            "max_height": null,
            "align_content": null,
            "visibility": null,
            "align_self": null,
            "height": null,
            "min_height": null,
            "padding": null,
            "grid_auto_rows": null,
            "grid_gap": null,
            "max_width": null,
            "order": null,
            "_view_module_version": "1.2.0",
            "grid_template_areas": null,
            "object_position": null,
            "object_fit": null,
            "grid_auto_columns": null,
            "margin": null,
            "display": null,
            "left": null
          }
        }
      }
    }
  },
  "cells": [
    {
      "cell_type": "markdown",
      "metadata": {
        "id": "view-in-github",
        "colab_type": "text"
      },
      "source": [
        "<a href=\"https://colab.research.google.com/github/n8w8-exe/fastai/blob/main/GameplayClassifier.ipynb\" target=\"_parent\"><img src=\"https://colab.research.google.com/assets/colab-badge.svg\" alt=\"Open In Colab\"/></a>"
      ]
    },
    {
      "cell_type": "code",
      "metadata": {
        "colab": {
          "base_uri": "https://localhost:8080/"
        },
        "id": "OgDaC9ALNXvB",
        "outputId": "fe0cf00f-d1cd-4d9e-8cad-3ecc7a56302b"
      },
      "source": [
        "!pip install -Uqq fastbook\r\n",
        "import fastbook\r\n",
        "fastbook.setup_book()"
      ],
      "execution_count": 1,
      "outputs": [
        {
          "output_type": "stream",
          "text": [
            "\u001b[K     |████████████████████████████████| 727kB 9.3MB/s \n",
            "\u001b[K     |████████████████████████████████| 194kB 17.3MB/s \n",
            "\u001b[K     |████████████████████████████████| 51kB 5.6MB/s \n",
            "\u001b[K     |████████████████████████████████| 1.2MB 17.8MB/s \n",
            "\u001b[K     |████████████████████████████████| 61kB 6.2MB/s \n",
            "\u001b[K     |████████████████████████████████| 776.8MB 22kB/s \n",
            "\u001b[K     |████████████████████████████████| 12.8MB 39.8MB/s \n",
            "\u001b[K     |████████████████████████████████| 51kB 5.5MB/s \n",
            "\u001b[31mERROR: torchtext 0.9.0 has requirement torch==1.8.0, but you'll have torch 1.7.1 which is incompatible.\u001b[0m\n",
            "\u001b[?25hMounted at /content/gdrive\n"
          ],
          "name": "stdout"
        }
      ]
    },
    {
      "cell_type": "code",
      "metadata": {
        "id": "uM2fcbBGOY7X"
      },
      "source": [
        "from fastbook import *\r\n",
        "from fastai.vision.widgets import *"
      ],
      "execution_count": 2,
      "outputs": []
    },
    {
      "cell_type": "code",
      "metadata": {
        "id": "Rq8-l7yBOhTr"
      },
      "source": [
        "path = Path()"
      ],
      "execution_count": 3,
      "outputs": []
    },
    {
      "cell_type": "code",
      "metadata": {
        "id": "fNxO6H9CQRJN"
      },
      "source": [
        "learn_inf = load_learner(path/'export.pkl')"
      ],
      "execution_count": 4,
      "outputs": []
    },
    {
      "cell_type": "code",
      "metadata": {
        "id": "_LdPq0oVQUt6"
      },
      "source": [
        "out_pl = widgets.Output()\r\n",
        "lbl_pred = widgets.Label()\r\n",
        "btn_run = widgets.Button(description='Classify')\r\n",
        "\r\n",
        "def on_click_classify(change):\r\n",
        "    img = PILImage.create(btn_upload.data[-1])\r\n",
        "    out_pl.clear_output()\r\n",
        "    with out_pl: display(img.to_thumb(128,128))\r\n",
        "    pred,pred_idx,probs = learn_inf.predict(img)\r\n",
        "    lbl_pred.value = f'Prediction: {pred}; Probability: {probs[pred_idx]:.04f}'\r\n",
        "\r\n",
        "btn_run.on_click(on_click_classify)\r\n",
        "\r\n",
        "btn_upload = widgets.FileUpload()"
      ],
      "execution_count": 5,
      "outputs": []
    },
    {
      "cell_type": "code",
      "metadata": {
        "colab": {
          "base_uri": "https://localhost:8080/",
          "height": 217,
          "referenced_widgets": [
            "4e6a406295364a2db9043d9ac6f8efce",
            "c4fafce700d34fef9dafdb5cfec12f5f",
            "256ea1a7fd10415d99e794f124d58cac",
            "ae26ad8ab96546109445aa4c54ef753d",
            "509833675715451e9d5dffe21bead185",
            "2080a5756b9841a3b58e25fcea53b7e3",
            "3570cabc17c84965822b15dd197b80c6",
            "be4d32a39a6548f996368a0641464a32",
            "a12a5c7cdc3b47a3b5296523d2899594",
            "c1b0f7d56b0d4d1e8b09c366693e227b",
            "aa4cb067a0e646ef8aae8e869697e989",
            "bde077b980094a87986304f6861a6826",
            "30c999fb544949658bb9223747bc6ab2",
            "b6e5b4e4026f4f4caddceb31c3ec62e6",
            "373ca85113bb4733bb91ada03a6521a5",
            "b66f9c7166324668bc8147fae9af7a5e"
          ]
        },
        "id": "MgHiz-aDQg3M",
        "outputId": "25a205ac-0420-4616-f5a0-7b4b08d585a3"
      },
      "source": [
        "VBox([widgets.Label('Select your screenshot!'), \r\n",
        "      btn_upload, btn_run, out_pl, lbl_pred])"
      ],
      "execution_count": 6,
      "outputs": [
        {
          "output_type": "display_data",
          "data": {
            "application/vnd.jupyter.widget-view+json": {
              "model_id": "4e6a406295364a2db9043d9ac6f8efce",
              "version_minor": 0,
              "version_major": 2
            },
            "text/plain": [
              "VBox(children=(Label(value='Select your screenshot!'), FileUpload(value={}, description='Upload'), Button(desc…"
            ]
          },
          "metadata": {
            "tags": []
          }
        },
        {
          "output_type": "display_data",
          "data": {
            "text/html": [
              ""
            ],
            "text/plain": [
              "<IPython.core.display.HTML object>"
            ]
          },
          "metadata": {
            "tags": []
          }
        }
      ]
    }
  ]
}